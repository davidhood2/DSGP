{
  "nbformat": 4,
  "nbformat_minor": 0,
  "metadata": {
    "colab": {
      "name": "Untitled0.ipynb",
      "provenance": [],
      "collapsed_sections": [],
      "authorship_tag": "ABX9TyP6GpZQeTJW+/KYlqhFuY4V",
      "include_colab_link": true
    },
    "kernelspec": {
      "name": "ir",
      "display_name": "R"
    },
    "language_info": {
      "name": "R"
    }
  },
  "cells": [
    {
      "cell_type": "markdown",
      "metadata": {
        "id": "view-in-github",
        "colab_type": "text"
      },
      "source": [
        "<a href=\"https://colab.research.google.com/github/davidhood2/DSGP/blob/master/IntroToR.ipynb\" target=\"_parent\"><img src=\"https://colab.research.google.com/assets/colab-badge.svg\" alt=\"Open In Colab\"/></a>"
      ]
    },
    {
      "cell_type": "code",
      "metadata": {
        "id": "n5CFvCnu_msF"
      },
      "source": [
        "#Example\n",
        "\n",
        "%%R\n",
        " \n",
        "x <- 42\n",
        " \n",
        "numbers_vec = 1:5 #Sequence\n",
        "colours_vec = c('red', 'blue', 'green', 'yellow','black')\n",
        " \n",
        "numbers_colours = c(colours_vec, numbers_vec) # Numbers vec will be convert to str\n",
        "print(numbers_colours[1]) #No Zeroth element, starts at 1\n",
        " \n",
        "typeof(numbers_colours) #Returns character vector\n",
        " \n",
        "colon_vec = 1:5\n",
        "sample_vec = seq(6,10,1)\n",
        " \n",
        " \n",
        "#Example Vector Operations\n",
        "print(colon_vec*3)\n",
        "print(colon_vec*colon_vec) #Will multiple elementwise\n",
        " \n",
        " \n",
        "#Lists - Do not have to be homogenous data types\n",
        "example_list = list(colours_vec, numbers_vec,2,'string')\n",
        "print(example_list)\n",
        " \n",
        " \n",
        "#DataFrames are multiple vectors, arranged as columns\n",
        " \n",
        "%%R\n",
        " \n",
        "#Importing library packages\n",
        "library(tidyverse)\n",
        "# library(janitor)\n",
        "library(readr)\n",
        "library(readxl)\n",
        " \n",
        "#Importing csv & excel files\n",
        "titanic <- readr::read_csv(\"./drive/MyDrive/RData/titanic.csv\", show_col_types=FALSE) #show_col_types prevents summary to console msg\n",
        "police_data <- readxl::read_excel(\"./drive/MyDrive/RData/police_data.xlsx\")\n",
        "titanic\n",
        "police_data\n",
        " \n",
        "#Writing out csv to file\n",
        "readr::write_csv(police_data, path=\"./drive/MyDrive/RData/test.csv\") #Writes out to test.csv\n",
        " \n",
        "#Inspecting the Data\n",
        "#str(titanic) #Gives a summary of the fields\n",
        "#dplyr::glimpse(titanic) # Gives compressed summary\n",
        "#dplyr::slice_sample(titanic, n=5) # Picks n rows\n",
        "#print(head(titanic)) #Prints top of set\n",
        "#print(tail(titanic)) #Prints bottom of set\n",
        "dim(titanic) #Prints dimensions of frame\n",
        "nrow(titanic) #Prints num of rows\n",
        "ncol(titanic) #Prints number of fields/cols\n",
        "names(titanic) #Prints field names\n",
        "summary(titanic) #Prints averages/stats per col\n",
        "titanic[1:3] #returns columns 1 to 3 inc.\n",
        "titanic[4:6,1:3] #returns rows 4 to 6, cols 1 to 3\n",
        " \n",
        "unique(titanic$Pclass) #Returns unique PClass  values, $ used to access member vars\n"
      ],
      "execution_count": null,
      "outputs": []
    }
  ]
}