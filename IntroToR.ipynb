{
  "nbformat": 4,
  "nbformat_minor": 0,
  "metadata": {
    "colab": {
      "name": "Untitled0.ipynb",
      "provenance": [],
      "collapsed_sections": [],
      "authorship_tag": "ABX9TyNqON6cPvfmQsbXBq3aZm21",
      "include_colab_link": true
    },
    "kernelspec": {
      "name": "python3",
      "display_name": "Python 3"
    },
    "language_info": {
      "name": "python"
    }
  },
  "cells": [
    {
      "cell_type": "markdown",
      "metadata": {
        "id": "view-in-github",
        "colab_type": "text"
      },
      "source": [
        "<a href=\"https://colab.research.google.com/github/davidhood2/DSGP/blob/master/IntroToR.ipynb\" target=\"_parent\"><img src=\"https://colab.research.google.com/assets/colab-badge.svg\" alt=\"Open In Colab\"/></a>"
      ]
    },
    {
      "cell_type": "code",
      "metadata": {
        "id": "HGw7afQ1B6Kn"
      },
      "source": [
        "%load_ext rpy2.ipython\n"
      ],
      "execution_count": null,
      "outputs": []
    },
    {
      "cell_type": "code",
      "metadata": {
        "id": "n5CFvCnu_msF",
        "colab": {
          "base_uri": "https://localhost:8080/",
          "height": 1000
        },
        "outputId": "6c1f7560-1a54-42a1-fa68-d1a0746c2743"
      },
      "source": [
        "%%R\n",
        "\n",
        "#Example\n",
        "\n",
        "\n",
        "\n",
        "\n",
        "\n",
        "x <- 42\n",
        " \n",
        "numbers_vec = 1:5 #Sequence\n",
        "colours_vec = c('red', 'blue', 'green', 'yellow','black')\n",
        " \n",
        "numbers_colours = c(colours_vec, numbers_vec) # Numbers vec will be convert to str\n",
        "print(numbers_colours[1]) #No Zeroth element, starts at 1\n",
        " \n",
        "typeof(numbers_colours) #Returns character vector\n",
        " \n",
        "colon_vec = 1:5\n",
        "sample_vec = seq(6,10,1)\n",
        " \n",
        " \n",
        "#Example Vector Operations\n",
        "print(colon_vec*3)\n",
        "print(colon_vec*colon_vec) #Will multiple elementwise\n",
        " \n",
        " \n",
        "#Lists - Do not have to be homogenous data types\n",
        "example_list = list(colours_vec, numbers_vec,2,'string')\n",
        "print(example_list)\n",
        " \n",
        " \n",
        "#DataFrames are multiple vectors, arranged as columns\n",
        "\n",
        " \n",
        "#Importing library packages\n",
        "library(tidyverse)\n",
        "# library(janitor)\n",
        "library(readr)\n",
        "library(readxl)\n",
        " \n",
        "#Importing csv & excel files\n",
        "titanic <- readr::read_csv(\"./drive/MyDrive/RData/titanic.csv\", show_col_types=FALSE) #show_col_types prevents summary to console msg\n",
        "police_data <- readxl::read_excel(\"./drive/MyDrive/RData/police_data.xlsx\")\n",
        "titanic\n",
        "police_data\n",
        " \n",
        "#Writing out csv to file\n",
        "readr::write_csv(police_data, path=\"./drive/MyDrive/RData/test.csv\") #Writes out to test.csv\n",
        " \n",
        "#Inspecting the Data\n",
        "#str(titanic) #Gives a summary of the fields\n",
        "#dplyr::glimpse(titanic) # Gives compressed summary\n",
        "#dplyr::slice_sample(titanic, n=5) # Picks n rows\n",
        "#print(head(titanic)) #Prints top of set\n",
        "#print(tail(titanic)) #Prints bottom of set\n",
        "dim(titanic) #Prints dimensions of frame\n",
        "nrow(titanic) #Prints num of rows\n",
        "ncol(titanic) #Prints number of fields/cols\n",
        "names(titanic) #Prints field names\n",
        "summary(titanic) #Prints averages/stats per col\n",
        "titanic[1:3] #returns columns 1 to 3 inc.\n",
        "titanic[4:6,1:3] #returns rows 4 to 6, cols 1 to 3\n",
        " \n",
        "unique(titanic$Pclass) #Returns unique PClass  values, $ used to access member vars\n"
      ],
      "execution_count": 11,
      "outputs": [
        {
          "output_type": "stream",
          "name": "stdout",
          "text": [
            "[1] \"red\"\n"
          ]
        },
        {
          "output_type": "display_data",
          "data": {
            "text/plain": [
              "[1] \"character\""
            ],
            "text/latex": "'character'",
            "text/markdown": "'character'",
            "text/html": [
              "'character'"
            ]
          },
          "metadata": {}
        },
        {
          "output_type": "stream",
          "name": "stdout",
          "text": [
            "[1]  3  6  9 12 15\n",
            "[1]  1  4  9 16 25\n",
            "[[1]]\n",
            "[1] \"red\"    \"blue\"   \"green\"  \"yellow\" \"black\" \n",
            "\n",
            "[[2]]\n",
            "[1] 1 2 3 4 5\n",
            "\n",
            "[[3]]\n",
            "[1] 2\n",
            "\n",
            "[[4]]\n",
            "[1] \"string\"\n",
            "\n"
          ]
        },
        {
          "output_type": "error",
          "ename": "ERROR",
          "evalue": "ignored",
          "traceback": [
            "Error: './drive/MyDrive/RData/titanic.csv' does not exist in current working directory ('/content').\nTraceback:\n",
            "1. readr::read_csv(\"./drive/MyDrive/RData/titanic.csv\", show_col_types = FALSE)",
            "2. vroom::vroom(file, delim = \",\", col_names = col_names, col_types = col_types, \n .     col_select = {\n .         {\n .             col_select\n .         }\n .     }, id = id, .name_repair = name_repair, skip = skip, n_max = n_max, \n .     na = na, quote = quote, comment = comment, skip_empty_rows = skip_empty_rows, \n .     trim_ws = trim_ws, escape_double = TRUE, escape_backslash = FALSE, \n .     locale = locale, guess_max = guess_max, show_col_types = show_col_types, \n .     progress = progress, altrep = lazy, num_threads = num_threads)",
            "3. vroom_(file, delim = delim %||% col_types$delim, col_names = col_names, \n .     col_types = col_types, id = id, skip = skip, col_select = col_select, \n .     name_repair = .name_repair, na = na, quote = quote, trim_ws = trim_ws, \n .     escape_double = escape_double, escape_backslash = escape_backslash, \n .     comment = comment, skip_empty_rows = skip_empty_rows, locale = locale, \n .     guess_max = guess_max, n_max = n_max, altrep = vroom_altrep(altrep), \n .     num_threads = num_threads, progress = progress)",
            "4. (function (path, write = FALSE) \n . {\n .     if (is.raw(path)) {\n .         return(rawConnection(path, \"rb\"))\n .     }\n .     if (!is.character(path)) {\n .         return(path)\n .     }\n .     if (is_url(path)) {\n .         if (requireNamespace(\"curl\", quietly = TRUE)) {\n .             con <- curl::curl(path)\n .         }\n .         else {\n .             rlang::inform(\"`curl` package not installed, falling back to using `url()`\")\n .             con <- url(path)\n .         }\n .         ext <- tolower(tools::file_ext(path))\n .         return(switch(ext, zip = , bz2 = , xz = {\n .             close(con)\n .             stop(\"Reading from remote `\", ext, \"` compressed files is not supported,\\n\", \n .                 \"  download the files locally first.\", call. = FALSE)\n .         }, gz = gzcon(con), con))\n .     }\n .     p <- split_path_ext(basename(path))\n .     if (write) {\n .         path <- normalizePath(path, mustWork = FALSE)\n .     }\n .     else {\n .         path <- check_path(path)\n .     }\n .     if (rlang::is_installed(\"archive\")) {\n .         formats <- archive_formats(p$extension)\n .         extension <- p$extension\n .         while (is.null(formats) && nzchar(extension)) {\n .             extension <- split_path_ext(extension)$extension\n .             formats <- archive_formats(extension)\n .         }\n .         if (!is.null(formats)) {\n .             p$extension <- extension\n .             if (write) {\n .                 if (is.null(formats[[1]])) {\n .                   return(archive::file_write(path, filter = formats[[2]]))\n .                 }\n .                 return(archive::archive_write(path, p$path, format = formats[[1]], \n .                   filter = formats[[2]]))\n .             }\n .             if (is.null(formats[[1]])) {\n .                 return(archive::file_read(path, filter = formats[[2]]))\n .             }\n .             return(archive::archive_read(path, format = formats[[1]], \n .                 filter = formats[[2]]))\n .         }\n .     }\n .     if (!write) {\n .         compression <- detect_compression(path)\n .     }\n .     else {\n .         compression <- NA\n .     }\n .     if (is.na(compression)) {\n .         compression <- tools::file_ext(path)\n .     }\n .     if (write && compression == \"zip\") {\n .         stop(\"Can only read from, not write to, .zip\", call. = FALSE)\n .     }\n .     switch(compression, gz = gzfile(path, \"\"), bz2 = bzfile(path, \n .         \"\"), xz = xzfile(path, \"\"), zip = zipfile(path, \"\"), \n .         if (!has_trailing_newline(path)) {\n .             file(path)\n .         } else {\n .             path\n .         })\n . })(\"./drive/MyDrive/RData/titanic.csv\")",
            "5. check_path(path)",
            "6. stop(\"'\", path, \"' does not exist\", if (!is_absolute_path(path)) {\n .     paste0(\" in current working directory ('\", getwd(), \"')\")\n . }, \".\", call. = FALSE)"
          ]
        }
      ]
    }
  ]
}